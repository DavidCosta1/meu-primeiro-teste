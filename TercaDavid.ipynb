{
  "nbformat": 4,
  "nbformat_minor": 0,
  "metadata": {
    "colab": {
      "provenance": [],
      "collapsed_sections": [
        "eoYrNxNlnqVy",
        "OH0OCAAMpt-q",
        "LfFD4L3WsIik",
        "Ked6mDAaktTd",
        "PfKhkSWpp9br",
        "LYXvYWAK2GPm",
        "ju8k-nUg3a-T",
        "vGJlITR75eGp",
        "Taeglk294K7e",
        "CcJA3Pmy0reU",
        "sM72GVWT5Cwr",
        "Cq98yHHhW5-C",
        "O9QsIAk_jj4l",
        "vu3s7oAN_lpE"
      ],
      "authorship_tag": "ABX9TyM8diyg7ieC3Rlgrb/vCHjz",
      "include_colab_link": true
    },
    "kernelspec": {
      "name": "python3",
      "display_name": "Python 3"
    },
    "language_info": {
      "name": "python"
    }
  },
  "cells": [
    {
      "cell_type": "markdown",
      "metadata": {
        "id": "view-in-github",
        "colab_type": "text"
      },
      "source": [
        "<a href=\"https://colab.research.google.com/github/DavidCosta1/meu-primeiro-teste/blob/main/TercaDavid.ipynb\" target=\"_parent\"><img src=\"https://colab.research.google.com/assets/colab-badge.svg\" alt=\"Open In Colab\"/></a>"
      ]
    },
    {
      "cell_type": "code",
      "execution_count": null,
      "metadata": {
        "colab": {
          "base_uri": "https://localhost:8080/"
        },
        "id": "gmrJBB3llder",
        "outputId": "5033e6f0-bfa7-4ebe-8db7-5cdfb6ad6dc4"
      },
      "outputs": [
        {
          "output_type": "stream",
          "name": "stdout",
          "text": [
            "1\n",
            "david\n",
            "david\n"
          ]
        }
      ],
      "source": [
        "print(1)\n",
        "print(\"david\")\n",
        "print('david')"
      ]
    },
    {
      "cell_type": "code",
      "source": [],
      "metadata": {
        "id": "jgRoSyqvnTFA"
      },
      "execution_count": null,
      "outputs": []
    },
    {
      "cell_type": "markdown",
      "source": [
        "#variaveis\n"
      ],
      "metadata": {
        "id": "eoYrNxNlnqVy"
      }
    },
    {
      "cell_type": "code",
      "source": [
        "#como escrever variaveis\n",
        "#normal\n",
        "num = 10\n",
        "numdois = 20\n",
        "#camelcase\n",
        "saldoBancarioDeHoje = 1000\n",
        "#snakecase\n",
        "saldo_bancario_de_ontem = -10000\n",
        "\n",
        "#variavel nunca pode comecar com numero\n",
        "#uma variavel nunca pode ter espaco, use o underline \"_\"\n",
        "#nao utilize estes simbolos /\\|<>!@$%\n",
        "#SEMPRE DEVE COMECAR COM LETRA MINUSCULA"
      ],
      "metadata": {
        "id": "HJGMEavTn9TX"
      },
      "execution_count": null,
      "outputs": []
    },
    {
      "cell_type": "code",
      "source": [
        "print(saldo_bancario_de_ontem)\n",
        "print(\"seu saldo bancario de ontem: \", saldo_bancario_de_ontem)"
      ],
      "metadata": {
        "colab": {
          "base_uri": "https://localhost:8080/"
        },
        "id": "D0CBcvJQo-Lu",
        "outputId": "49956190-1e5a-49ef-8c05-162f656cd048"
      },
      "execution_count": null,
      "outputs": [
        {
          "output_type": "stream",
          "name": "stdout",
          "text": [
            "-10000\n",
            "seu saldo bancario de ontem:  -10000\n"
          ]
        }
      ]
    },
    {
      "cell_type": "markdown",
      "source": [
        "#TIPO DE NUMERO\n"
      ],
      "metadata": {
        "id": "OH0OCAAMpt-q"
      }
    },
    {
      "cell_type": "code",
      "source": [
        "inteiro = 10\n",
        "\n",
        "type(inteiro)"
      ],
      "metadata": {
        "colab": {
          "base_uri": "https://localhost:8080/"
        },
        "id": "PfxxUCUWpw1B",
        "outputId": "df2f854b-87eb-45f6-8270-d15fc83db383"
      },
      "execution_count": null,
      "outputs": [
        {
          "output_type": "execute_result",
          "data": {
            "text/plain": [
              "int"
            ]
          },
          "metadata": {},
          "execution_count": 7
        }
      ]
    },
    {
      "cell_type": "code",
      "source": [
        "decimal = 10.5\n",
        "\n",
        "type(decimal)"
      ],
      "metadata": {
        "colab": {
          "base_uri": "https://localhost:8080/"
        },
        "id": "nOlkKTSjqN_V",
        "outputId": "e559efd1-f89c-493d-82e3-ca1b7ac7b074"
      },
      "execution_count": null,
      "outputs": [
        {
          "output_type": "execute_result",
          "data": {
            "text/plain": [
              "float"
            ]
          },
          "metadata": {},
          "execution_count": 8
        }
      ]
    },
    {
      "cell_type": "markdown",
      "source": [
        "#operacoes matematicas na programacao"
      ],
      "metadata": {
        "id": "LfFD4L3WsIik"
      }
    },
    {
      "cell_type": "code",
      "source": [
        "#adicao\n",
        "1 + 1"
      ],
      "metadata": {
        "colab": {
          "base_uri": "https://localhost:8080/"
        },
        "id": "M3XcvkQfqu4W",
        "outputId": "da042e16-6347-4e0e-d761-6cacd6535cc4"
      },
      "execution_count": null,
      "outputs": [
        {
          "output_type": "execute_result",
          "data": {
            "text/plain": [
              "2"
            ]
          },
          "metadata": {},
          "execution_count": 9
        }
      ]
    },
    {
      "cell_type": "code",
      "source": [
        "#subtracao\n",
        "1 - 1"
      ],
      "metadata": {
        "colab": {
          "base_uri": "https://localhost:8080/"
        },
        "id": "6wby7pXOq3IF",
        "outputId": "279799be-925f-4f53-ce00-d929254bfeae"
      },
      "execution_count": null,
      "outputs": [
        {
          "output_type": "execute_result",
          "data": {
            "text/plain": [
              "0"
            ]
          },
          "metadata": {},
          "execution_count": 12
        }
      ]
    },
    {
      "cell_type": "code",
      "source": [
        "#mutiplicacao\n",
        "4*9"
      ],
      "metadata": {
        "colab": {
          "base_uri": "https://localhost:8080/"
        },
        "id": "kkyyf5zwq3qj",
        "outputId": "2b8a3b1e-2086-421d-f433-43ef727573fa"
      },
      "execution_count": null,
      "outputs": [
        {
          "output_type": "execute_result",
          "data": {
            "text/plain": [
              "36"
            ]
          },
          "metadata": {},
          "execution_count": 10
        }
      ]
    },
    {
      "cell_type": "code",
      "source": [
        "#exponencial\n",
        "10**2"
      ],
      "metadata": {
        "colab": {
          "base_uri": "https://localhost:8080/"
        },
        "id": "kXDFK8d4q7rQ",
        "outputId": "61031ac6-af88-45a4-f76b-1229724c1527"
      },
      "execution_count": null,
      "outputs": [
        {
          "output_type": "execute_result",
          "data": {
            "text/plain": [
              "100"
            ]
          },
          "metadata": {},
          "execution_count": 13
        }
      ]
    },
    {
      "cell_type": "code",
      "source": [
        "#ordem das operacoes\n",
        "10 + 10 * 10"
      ],
      "metadata": {
        "colab": {
          "base_uri": "https://localhost:8080/"
        },
        "id": "LatyzVQ5rKiR",
        "outputId": "12c8038b-542a-4158-9910-d364f67e876b"
      },
      "execution_count": null,
      "outputs": [
        {
          "output_type": "execute_result",
          "data": {
            "text/plain": [
              "110"
            ]
          },
          "metadata": {},
          "execution_count": 14
        }
      ]
    },
    {
      "cell_type": "code",
      "source": [
        "#como expecificar a ordem das operacoes\n",
        "(2+10) * (10 - 5)"
      ],
      "metadata": {
        "colab": {
          "base_uri": "https://localhost:8080/"
        },
        "id": "ynnEyqurraA5",
        "outputId": "f3926c4b-bbf0-4997-96c1-faea9b785596"
      },
      "execution_count": null,
      "outputs": [
        {
          "output_type": "execute_result",
          "data": {
            "text/plain": [
              "60"
            ]
          },
          "metadata": {},
          "execution_count": 15
        }
      ]
    },
    {
      "cell_type": "code",
      "source": [
        "numero = 10\n",
        "\n",
        "numero + numero\n",
        "\n",
        "numero = 30\n",
        "\n",
        "numero = numero + numero\n",
        "\n",
        "print(numero)"
      ],
      "metadata": {
        "colab": {
          "base_uri": "https://localhost:8080/"
        },
        "id": "CFwSDrgvwYll",
        "outputId": "67730ba2-bcf2-45d0-bb2a-ead3af7b8243"
      },
      "execution_count": null,
      "outputs": [
        {
          "output_type": "stream",
          "name": "stdout",
          "text": [
            "60\n"
          ]
        }
      ]
    },
    {
      "cell_type": "code",
      "source": [
        "#Escreva um programa que imprima seu nome na tela\n",
        "print(\"david\")"
      ],
      "metadata": {
        "colab": {
          "base_uri": "https://localhost:8080/"
        },
        "id": "wTIjrOD_yA2u",
        "outputId": "859f42c7-4363-4836-e602-3c8ed3f38555"
      },
      "execution_count": null,
      "outputs": [
        {
          "output_type": "stream",
          "name": "stdout",
          "text": [
            "david\n"
          ]
        }
      ]
    },
    {
      "cell_type": "code",
      "source": [
        "#Declare duas variaveis com numeros e imprima a soma delas\n",
        "ab = 10\n",
        "\n",
        "ac = 10\n",
        "\n",
        "print(ab + ac)"
      ],
      "metadata": {
        "colab": {
          "base_uri": "https://localhost:8080/"
        },
        "id": "Dpr8kmdYyWtJ",
        "outputId": "3e32e02f-5838-48a4-f045-709b54638a47"
      },
      "execution_count": null,
      "outputs": [
        {
          "output_type": "stream",
          "name": "stdout",
          "text": [
            "20\n"
          ]
        }
      ]
    },
    {
      "cell_type": "code",
      "source": [
        "#declare duas variaveis com valores numericos e imprima a soma, subtração e multiplicacao e divisão delas\n",
        "\n",
        "num1 = 10\n",
        "\n",
        "num2 = 5\n",
        "\n",
        "soma = num1 + num2\n",
        "print(soma)\n",
        "\n",
        "subtracao = num1 - num2\n",
        "print(subtracao)\n",
        "\n",
        "mutiplicacao = num1*num2\n",
        "print(mutiplicacao)\n",
        "\n",
        "exponencial = num1**num2\n",
        "print(exponencial)\n"
      ],
      "metadata": {
        "colab": {
          "base_uri": "https://localhost:8080/"
        },
        "id": "N0GUcN6x0PMY",
        "outputId": "3f0d936f-d3c8-4a23-aba3-68d943734cf4"
      },
      "execution_count": null,
      "outputs": [
        {
          "output_type": "stream",
          "name": "stdout",
          "text": [
            "15\n",
            "5\n",
            "50\n",
            "100000\n"
          ]
        }
      ]
    },
    {
      "cell_type": "code",
      "source": [
        "#Declare uma variavel com uma mensagem pessoal e imprima-a\n",
        "pontos = 100\n",
        "print(\"seus pontos atuais são:\", pontos)"
      ],
      "metadata": {
        "colab": {
          "base_uri": "https://localhost:8080/"
        },
        "id": "2O4MPFCiykFv",
        "outputId": "ac2a7831-d1fa-4e05-aedd-12a316b9c65a"
      },
      "execution_count": null,
      "outputs": [
        {
          "output_type": "stream",
          "name": "stdout",
          "text": [
            "seus pontos atuais são: 100\n"
          ]
        }
      ]
    },
    {
      "cell_type": "markdown",
      "source": [
        "#STRING"
      ],
      "metadata": {
        "id": "Ked6mDAaktTd"
      }
    },
    {
      "cell_type": "code",
      "source": [
        "#uma palavra\n",
        "string1 = \"Oi\"\n",
        "#uma frase\n",
        "string2 = \"Oi, como voce esta?\"\n",
        "#uma frase com aspas simples\n",
        "string3 = \"benicio ruinzao no brawl stars\""
      ],
      "metadata": {
        "id": "wUAtlPC6kyKV"
      },
      "execution_count": null,
      "outputs": []
    },
    {
      "cell_type": "code",
      "source": [
        "print(string1)\n",
        "print(string2)\n",
        "print(string3)"
      ],
      "metadata": {
        "colab": {
          "base_uri": "https://localhost:8080/"
        },
        "id": "3TWOW5pZl0yO",
        "outputId": "2513015d-94a9-49da-80f1-c454c98e4419"
      },
      "execution_count": null,
      "outputs": [
        {
          "output_type": "stream",
          "name": "stdout",
          "text": [
            "Oi\n",
            "Oi, como voce esta?\n",
            "benicio ruinzao no brawl stars\n"
          ]
        }
      ]
    },
    {
      "cell_type": "code",
      "source": [
        "#Como utilizar as \"\" numa string\n",
        "string4 = 'Benicio é \"Bonito\"'\n",
        "print(string4)"
      ],
      "metadata": {
        "colab": {
          "base_uri": "https://localhost:8080/"
        },
        "id": "tukaqjdDnMTD",
        "outputId": "e65262aa-f791-4f3f-f38e-41ae4ad0a4d8"
      },
      "execution_count": null,
      "outputs": [
        {
          "output_type": "stream",
          "name": "stdout",
          "text": [
            "Benicio é \"Bonito\"\n"
          ]
        }
      ]
    },
    {
      "cell_type": "code",
      "source": [
        "#tres formas de imprimir uma string\n",
        "string5 = \"test\"\n",
        "print(string5)\n",
        "print(\"teste\")\n",
        "'teste'"
      ],
      "metadata": {
        "colab": {
          "base_uri": "https://localhost:8080/",
          "height": 70
        },
        "id": "IofRRSWooYDg",
        "outputId": "f7d01173-07dd-4dee-85e9-01ba9d989370"
      },
      "execution_count": null,
      "outputs": [
        {
          "output_type": "stream",
          "name": "stdout",
          "text": [
            "test\n",
            "teste\n"
          ]
        },
        {
          "output_type": "execute_result",
          "data": {
            "text/plain": [
              "'teste'"
            ],
            "application/vnd.google.colaboratory.intrinsic+json": {
              "type": "string"
            }
          },
          "metadata": {},
          "execution_count": 10
        }
      ]
    },
    {
      "cell_type": "code",
      "source": [
        "#utilizar \\n para saltar linhas\n",
        "print(\"Saltando agora \\n saltei \\n !\")"
      ],
      "metadata": {
        "colab": {
          "base_uri": "https://localhost:8080/"
        },
        "id": "jKzX_BFopuw-",
        "outputId": "204ae465-aa09-4a97-ea64-11386c68a006"
      },
      "execution_count": null,
      "outputs": [
        {
          "output_type": "stream",
          "name": "stdout",
          "text": [
            "Saltando agora \n",
            " saltei \n",
            " !\n"
          ]
        }
      ]
    },
    {
      "cell_type": "code",
      "source": [
        "#utilizar /t para dar espaços maiores\n",
        "print(\"Estou saltando \\t\\t saltando!\")"
      ],
      "metadata": {
        "colab": {
          "base_uri": "https://localhost:8080/"
        },
        "id": "RuPYwDUlp_fQ",
        "outputId": "8d910e60-7e94-4afd-ec95-326a618e8745"
      },
      "execution_count": null,
      "outputs": [
        {
          "output_type": "stream",
          "name": "stdout",
          "text": [
            "Estou saltando \t\t saltando!\n"
          ]
        }
      ]
    },
    {
      "cell_type": "code",
      "source": [
        "#veja quantos caracteres forma a frase\n",
        "frase = \"O riquelme era um grande jogador do boca juniors\"\n",
        "len(frase)"
      ],
      "metadata": {
        "colab": {
          "base_uri": "https://localhost:8080/"
        },
        "id": "F-FzerPNrfn5",
        "outputId": "2600cdca-2657-454b-f4d7-e55ef4eed814"
      },
      "execution_count": null,
      "outputs": [
        {
          "output_type": "execute_result",
          "data": {
            "text/plain": [
              "48"
            ]
          },
          "metadata": {},
          "execution_count": 15
        }
      ]
    },
    {
      "cell_type": "code",
      "source": [
        "#indexação de string\n",
        "nome = \"Fulano da Silva Sauro\"\n",
        "#imprimindo a primeira letra do nome\n",
        "print(nome[7])"
      ],
      "metadata": {
        "colab": {
          "base_uri": "https://localhost:8080/"
        },
        "id": "UTEBR9Ymsbky",
        "outputId": "b378b02a-d721-4265-f5c8-302d85d3ebdd"
      },
      "execution_count": null,
      "outputs": [
        {
          "output_type": "stream",
          "name": "stdout",
          "text": [
            "d\n"
          ]
        }
      ]
    },
    {
      "cell_type": "code",
      "source": [
        "#imprimindo a partir de um caractere\n",
        "print(nome[7:])\n",
        "#imprimindo até um caractere\n",
        "print(nome[:7])\n",
        "#imprimir uma parte expecifica\n",
        "print(nome[10:15])\n",
        "#imprimir retrocedendo\n",
        "print(nome[-1])\n",
        "#tudo menos a ultima letra\n",
        "print(nome[:-1])"
      ],
      "metadata": {
        "colab": {
          "base_uri": "https://localhost:8080/"
        },
        "id": "nQ0kVSXgvNcB",
        "outputId": "983efb91-bfe4-495a-e298-bb67eedb11b5"
      },
      "execution_count": null,
      "outputs": [
        {
          "output_type": "stream",
          "name": "stdout",
          "text": [
            "da Silva Sauro\n",
            "Fulano \n",
            "Silva\n",
            "o\n",
            "Fulano da Silva Saur\n"
          ]
        }
      ]
    },
    {
      "cell_type": "code",
      "source": [
        "#imprimir uma frase saltando letras de 2 em 2\n",
        "frase = \"Batatinha quando nasce espalharrama pelo chão\"\n",
        "print(frase[::2])"
      ],
      "metadata": {
        "colab": {
          "base_uri": "https://localhost:8080/"
        },
        "id": "gOeAef041cgw",
        "outputId": "f40dd35b-58c3-4eaa-ab49-799f56ce443a"
      },
      "execution_count": null,
      "outputs": [
        {
          "output_type": "stream",
          "name": "stdout",
          "text": [
            "Bttnaqad ac sahraapl ho\n"
          ]
        }
      ]
    },
    {
      "cell_type": "code",
      "source": [
        "#encontrar caracteres dentro de uma string use o find()\n",
        "email = \"enzoprogamerkwai23@gmail.com\"\n",
        "print(email.find(\"@\"))"
      ],
      "metadata": {
        "colab": {
          "base_uri": "https://localhost:8080/"
        },
        "id": "zEbisFTs3kjg",
        "outputId": "ba0dc73e-07fb-4627-c833-d807f453d623"
      },
      "execution_count": null,
      "outputs": [
        {
          "output_type": "stream",
          "name": "stdout",
          "text": [
            "19\n"
          ]
        }
      ]
    },
    {
      "cell_type": "code",
      "source": [
        "#utilize a função count  para contar caracteres dentro de uma string\n",
        "email = \"enzoprogamerkwai23@gmail.com\"\n",
        "print(email.count(\".\"))"
      ],
      "metadata": {
        "colab": {
          "base_uri": "https://localhost:8080/"
        },
        "id": "kGOZlL6-5iff",
        "outputId": "a765f94c-8bad-4c7e-97a1-efe7a061df19"
      },
      "execution_count": null,
      "outputs": [
        {
          "output_type": "stream",
          "name": "stdout",
          "text": [
            "1\n"
          ]
        }
      ]
    },
    {
      "cell_type": "code",
      "source": [
        "#OPERADORES EM STRINGS\n",
        "\n",
        "#concatenação\n",
        "nome = \"Jose\"\n",
        "sobrenome = \" Bevidari\"\n",
        "print(nome + sobrenome)\n",
        "\n",
        "#repetição\n",
        "print(nome *3)\n"
      ],
      "metadata": {
        "colab": {
          "base_uri": "https://localhost:8080/"
        },
        "id": "CK6yDp2_6KSO",
        "outputId": "0da50f2d-d457-430c-91e5-aa3b555e2206"
      },
      "execution_count": null,
      "outputs": [
        {
          "output_type": "stream",
          "name": "stdout",
          "text": [
            "Jose Bevidari\n",
            "JoseJoseJose\n"
          ]
        }
      ]
    },
    {
      "cell_type": "code",
      "source": [
        "#numeros nao podem ser concatenados com strings\n",
        "numero_de_irmaos = 2\n",
        "\n",
        "#uso a funcao STR() pois ela transforma numeros em strings\n",
        "print(\"voce tem \" + str(numero_de_irmaos) + \" irmaos\")"
      ],
      "metadata": {
        "colab": {
          "base_uri": "https://localhost:8080/"
        },
        "id": "OtNvwS2a68eI",
        "outputId": "4c37e3f0-4c21-4f27-bcb9-f675aa9e5fdd"
      },
      "execution_count": null,
      "outputs": [
        {
          "output_type": "stream",
          "name": "stdout",
          "text": [
            "voce tem 2 irmaos\n"
          ]
        }
      ]
    },
    {
      "cell_type": "markdown",
      "source": [
        "#Lista e matrizes"
      ],
      "metadata": {
        "id": "PfKhkSWpp9br"
      }
    },
    {
      "cell_type": "code",
      "source": [
        "#O que é uma lista?\n",
        "#listas são uma coleção de itens em uma ordem específica\n",
        "\n",
        "#como criar uma lista\n",
        "\n",
        "alunos = [\"Riquelme\", \"Benicio\", \"David\", \"Vinicius\", \"Eduardo\"]\n",
        "print(alunos)"
      ],
      "metadata": {
        "colab": {
          "base_uri": "https://localhost:8080/"
        },
        "id": "-jKBOEourDaq",
        "outputId": "ca54731e-9bdf-4e4b-910e-2934218ae67f"
      },
      "execution_count": null,
      "outputs": [
        {
          "output_type": "stream",
          "name": "stdout",
          "text": [
            "['Riquelme', 'Benicio', 'David', 'Vinicius', 'Eduardo']\n"
          ]
        }
      ]
    },
    {
      "cell_type": "code",
      "source": [
        "#Como exibir um indicie em expecifico\n",
        "alunos = [\"Riquelme\", \"Benicio\", \"David\", \"Vinicius\", \"Eduardo\"]\n",
        "print(\"Primeiro aluno desta turma: \" + alunos[0])\n",
        "#Os indicies em python comecam do valor 0\n"
      ],
      "metadata": {
        "colab": {
          "base_uri": "https://localhost:8080/"
        },
        "id": "ta4rM5DTrj1K",
        "outputId": "eb7a0384-7f3d-41ef-bb16-35c2be255a38"
      },
      "execution_count": null,
      "outputs": [
        {
          "output_type": "stream",
          "name": "stdout",
          "text": [
            "Primeiro aluno desta turma: Riquelme\n"
          ]
        }
      ]
    },
    {
      "cell_type": "code",
      "source": [
        "#Como exibir um indicie em expecifico\n",
        "alunos = [\"Riquelme\", \"Benicio\", \"David\", \"Vinicius\", \"Eduardo\"]\n",
        "print(\"Ultimo aluno desta turma: \" + alunos[-1])\n",
        "#Os indicies em python comecam do valor 0"
      ],
      "metadata": {
        "colab": {
          "base_uri": "https://localhost:8080/"
        },
        "id": "p895BKVAunpT",
        "outputId": "e5e72ea6-0def-4ec7-ceb8-a1a30e752b09"
      },
      "execution_count": null,
      "outputs": [
        {
          "output_type": "stream",
          "name": "stdout",
          "text": [
            "Ultimo aluno desta turma: Eduardo\n"
          ]
        }
      ]
    },
    {
      "cell_type": "code",
      "source": [
        "#Como substituir algo na lista\n",
        "\n",
        "alunos = [\"Riquelme\", \"Benicio\", \"David\", \"Vinicius\", \"Eduardo\"]\n",
        "alunos[4] = \"Patolino\"\n",
        "#voce tambem pode subistituir o \"4\" pelo -1 para referir-se ao ultimo\n",
        "\n",
        "print(alunos)"
      ],
      "metadata": {
        "colab": {
          "base_uri": "https://localhost:8080/"
        },
        "id": "PK2MSXgWvO0d",
        "outputId": "e0d67933-5081-458c-f579-b756b4344e1b"
      },
      "execution_count": null,
      "outputs": [
        {
          "output_type": "stream",
          "name": "stdout",
          "text": [
            "['Riquelme', 'Benicio', 'David', 'Vinicius', 'Patolino']\n"
          ]
        }
      ]
    },
    {
      "cell_type": "code",
      "source": [
        "#Como acrescentar itens dentro da lista(nomes, objetos, etc...)\n",
        "\n",
        "alunos = [\"Riquelme\", \"Benicio\", \"David\", \"Vinicius\", \"Eduardo\"]\n",
        "alunos.append('Marcos')\n",
        "print(alunos)"
      ],
      "metadata": {
        "colab": {
          "base_uri": "https://localhost:8080/"
        },
        "id": "P690wglgwf8w",
        "outputId": "f61fb0df-dd63-4ba9-fb4c-f9b5fc463e1a"
      },
      "execution_count": null,
      "outputs": [
        {
          "output_type": "stream",
          "name": "stdout",
          "text": [
            "['Riquelme', 'Benicio', 'David', 'Vinicius', 'Eduardo', 'Marcos']\n"
          ]
        }
      ]
    },
    {
      "cell_type": "code",
      "source": [
        "#Como inserir algo na lista em um lugar expecifico\n",
        "\n",
        "alunos = [\"Riquelme\", \"Benicio\", \"David\", \"Vinicius\", \"Eduardo\"]\n",
        "alunos.insert(0, \"Arthur\")\n",
        "print(alunos)"
      ],
      "metadata": {
        "colab": {
          "base_uri": "https://localhost:8080/"
        },
        "id": "1WXGxSwTyD3G",
        "outputId": "60a39216-0c88-4127-e365-bde4a65c067a"
      },
      "execution_count": null,
      "outputs": [
        {
          "output_type": "stream",
          "name": "stdout",
          "text": [
            "['Arthur', 'Riquelme', 'Benicio', 'David', 'Vinicius', 'Eduardo']\n"
          ]
        }
      ]
    },
    {
      "cell_type": "code",
      "source": [
        "#Como remover itens de uma lista\n",
        "\n",
        "alunos = [\"Riquelme\", \"Benicio\", \"David\", \"Vinicius\", \"Eduardo\"]\n",
        "del alunos[0]\n",
        "print(alunos)"
      ],
      "metadata": {
        "colab": {
          "base_uri": "https://localhost:8080/"
        },
        "id": "_Lr-ouYdzJ5c",
        "outputId": "acc42cd5-19c8-4a2c-e7bd-411a22edae23"
      },
      "execution_count": null,
      "outputs": [
        {
          "output_type": "stream",
          "name": "stdout",
          "text": [
            "['Benicio', 'David', 'Vinicius', 'Eduardo']\n"
          ]
        }
      ]
    },
    {
      "cell_type": "code",
      "source": [
        "#Como remover um por um da lista\n",
        "\n",
        "alunos = [\"Riquelme\", \"Benicio\", \"David\", \"Vinicius\", \"Eduardo\"]\n",
        "alunos.pop()\n",
        "print(alunos)"
      ],
      "metadata": {
        "colab": {
          "base_uri": "https://localhost:8080/"
        },
        "id": "h3NFHyoCz5UE",
        "outputId": "453b4c31-b033-424f-8194-832acaa71a8c"
      },
      "execution_count": null,
      "outputs": [
        {
          "output_type": "stream",
          "name": "stdout",
          "text": [
            "['Riquelme', 'Benicio', 'David', 'Vinicius']\n"
          ]
        }
      ]
    },
    {
      "cell_type": "code",
      "source": [
        "#Como remover na lista em expecifico utilizando o metodo \".pop\"\n",
        "alunos = [\"Riquelme\", \"Benicio\", \"David\", \"Vinicius\", \"Eduardo\"]\n",
        "alunos.pop(1)\n",
        "print(alunos)"
      ],
      "metadata": {
        "colab": {
          "base_uri": "https://localhost:8080/"
        },
        "id": "e1wxfEL90eW4",
        "outputId": "b81eaf62-81db-4812-ea73-7fa0a100f325"
      },
      "execution_count": null,
      "outputs": [
        {
          "output_type": "stream",
          "name": "stdout",
          "text": [
            "['Riquelme', 'David', 'Vinicius', 'Eduardo']\n"
          ]
        }
      ]
    },
    {
      "cell_type": "code",
      "source": [
        "#Como remover um item sem dizer sua posicao\n",
        "\n",
        "alunos = [\"Riquelme\", \"Benicio\", \"David\", \"Vinicius\", \"Eduardo\"]\n",
        "alunos.remove(\"Riquelme\")\n",
        "print(alunos)"
      ],
      "metadata": {
        "colab": {
          "base_uri": "https://localhost:8080/"
        },
        "id": "4dC5h5ho2HwI",
        "outputId": "4e5e4c15-e990-46d6-f1d5-1e071a87a76e"
      },
      "execution_count": null,
      "outputs": [
        {
          "output_type": "stream",
          "name": "stdout",
          "text": [
            "['Benicio', 'David', 'Vinicius', 'Eduardo']\n"
          ]
        }
      ]
    },
    {
      "cell_type": "code",
      "source": [
        "#Como colocar uma lista em ordem alfabetica\n",
        "alunos = [\"Riquelme\", \"Benicio\", \"David\", \"Vinicius\", \"Eduardo\"]\n",
        "alunos.sort()\n",
        "print(alunos)\n",
        "\n",
        "#Como colocar em ordem invera\n",
        "alunos = [\"Riquelme\", \"Benicio\", \"David\", \"Vinicius\", \"Eduardo\"]\n",
        "alunos.sort(reverse=True)\n",
        "print(alunos)\n",
        "\n",
        "#o metodo \".sort()\" altera permanentemente a lista original\n",
        "print(alunos)"
      ],
      "metadata": {
        "colab": {
          "base_uri": "https://localhost:8080/"
        },
        "id": "WmnyVJTJ9D4g",
        "outputId": "fb002369-1d2e-4b57-8f71-6dc0b7dca99c"
      },
      "execution_count": null,
      "outputs": [
        {
          "output_type": "stream",
          "name": "stdout",
          "text": [
            "['Benicio', 'David', 'Eduardo', 'Riquelme', 'Vinicius']\n",
            "['Vinicius', 'Riquelme', 'Eduardo', 'David', 'Benicio']\n",
            "['Vinicius', 'Riquelme', 'Eduardo', 'David', 'Benicio']\n"
          ]
        }
      ]
    },
    {
      "cell_type": "code",
      "source": [
        "#Crie uma lista vazia e em seguida adicione 3 numeros a ela, depois imprima a lista\n",
        "numeros = []\n",
        "numeros.append(1)\n",
        "numeros.append(3)\n",
        "numeros.append(6)\n",
        "print(numeros)"
      ],
      "metadata": {
        "colab": {
          "base_uri": "https://localhost:8080/"
        },
        "id": "CfpDaijP_DFn",
        "outputId": "5effb8f5-10d7-4f71-9e73-5632eec9ae15"
      },
      "execution_count": null,
      "outputs": [
        {
          "output_type": "stream",
          "name": "stdout",
          "text": [
            "[1, 3, 6]\n"
          ]
        }
      ]
    },
    {
      "cell_type": "code",
      "source": [
        "#Crie a lista que esta abaixo, depois imprima o primeiro e o ultimo numero da lista\n",
        "lista = [10, 20, 30, 40, 50]\n",
        "print('o primeiro numero é', lista[0])\n",
        "print(' o ultimo numero é', lista[4])"
      ],
      "metadata": {
        "colab": {
          "base_uri": "https://localhost:8080/"
        },
        "id": "aonpCVK5Alkl",
        "outputId": "a7567b0f-22ff-43ba-e181-bfef747c1087"
      },
      "execution_count": null,
      "outputs": [
        {
          "output_type": "stream",
          "name": "stdout",
          "text": [
            "o primeiro numero é 10\n",
            " o ultimo numero é 50\n"
          ]
        }
      ]
    },
    {
      "cell_type": "code",
      "source": [
        "#Crie a lista que esta a baixo e atualize qualquer nome desta lista para outro nome\n",
        "lista = [\"Ana\", \"Caio\", \"Fabio\"]\n",
        "lista[1] = \"Marcos\"\n",
        "print(lista)"
      ],
      "metadata": {
        "colab": {
          "base_uri": "https://localhost:8080/"
        },
        "id": "loj1H-9ZBI7F",
        "outputId": "4fdee55d-e745-4f39-c245-b9cc33bf2f24"
      },
      "execution_count": null,
      "outputs": [
        {
          "output_type": "stream",
          "name": "stdout",
          "text": [
            "['Ana', 'Marcos', 'Fabio']\n"
          ]
        }
      ]
    },
    {
      "cell_type": "markdown",
      "source": [
        "#OPERADORES DE COMPARAÇÃO\n",
        "\n"
      ],
      "metadata": {
        "id": "LYXvYWAK2GPm"
      }
    },
    {
      "cell_type": "code",
      "source": [
        "num1 = 10\n",
        "num2 = 50\n",
        "texto1 = \"ctrl\"\n",
        "texto2 = \"play\"\n",
        "\n",
        "print(num1 != num2)\n",
        "print(num1 * 5 == num2)\n",
        "print(texto1 != texto2)\n",
        "print( texto1 == texto2)\n",
        "print(\"----------------------\")\n",
        "\n",
        "#Maior e maior ou igual\n",
        "print(num1 > num2)\n",
        "print(num1 * 5 > num2)\n",
        "print(num1 * 5>= num2)\n"
      ],
      "metadata": {
        "id": "TSsV78Jl2Ktk",
        "colab": {
          "base_uri": "https://localhost:8080/"
        },
        "outputId": "0d1e78c7-6bd9-46ed-ce07-e9e58cdf3149"
      },
      "execution_count": null,
      "outputs": [
        {
          "output_type": "stream",
          "name": "stdout",
          "text": [
            "True\n",
            "True\n",
            "True\n",
            "False\n",
            "----------------------\n",
            "False\n",
            "False\n",
            "True\n"
          ]
        }
      ]
    },
    {
      "cell_type": "code",
      "source": [
        "#OPERADORES EM CADEIA\n",
        "#AND / TODAS AS CONDICOES PRECISAM SER VERDADEIRAS\n",
        "print(1 < 2 < 3)\n",
        "\n",
        "#o mesmo que 1 < 2 < 3\n",
        "print(1 < 2 and 2 < 3)\n",
        "\n",
        "print(1 < 2 and 2 < 3 and 3 > 4)\n",
        "print(\"---------------\")\n",
        "\n",
        "#OR / Uma condicao somente precisa ser verdadeira\n",
        "\n",
        "print( 1 > 2 or 1 < 2)\n",
        "\n"
      ],
      "metadata": {
        "colab": {
          "base_uri": "https://localhost:8080/"
        },
        "id": "vwBMo8z32jnr",
        "outputId": "c30cfa47-9f0e-48f7-b12e-4084c3ddd0e1"
      },
      "execution_count": null,
      "outputs": [
        {
          "output_type": "stream",
          "name": "stdout",
          "text": [
            "True\n",
            "True\n",
            "False\n",
            "---------------\n",
            "True\n"
          ]
        }
      ]
    },
    {
      "cell_type": "markdown",
      "source": [
        "# CONDICIONAIS IF / ELIF / ELSE"
      ],
      "metadata": {
        "id": "ju8k-nUg3a-T"
      }
    },
    {
      "cell_type": "code",
      "source": [
        "#IF = SE\n",
        "#ELIF = SENAO\n",
        "#ELSE = ENTAO\n",
        "\n",
        "nota = float(input(\"Digite a sua nota:\"))\n",
        "\n",
        "if nota >= 6:\n",
        "   print(\"Aprovado\")\n",
        "elif nota >= 4 and nota < 6:\n",
        "   print(\"RFC\")\n",
        "else:\n",
        "  print(\"Reprovado\")"
      ],
      "metadata": {
        "colab": {
          "base_uri": "https://localhost:8080/"
        },
        "id": "Nayrm5jc4QFi",
        "outputId": "a0a3ff5b-c240-4869-e1b0-e49a476dbf8e"
      },
      "execution_count": null,
      "outputs": [
        {
          "output_type": "stream",
          "name": "stdout",
          "text": [
            "Digite a sua nota:2\n",
            "Reprovado\n"
          ]
        }
      ]
    },
    {
      "cell_type": "code",
      "source": [],
      "metadata": {
        "id": "HWaC4dW55do6"
      },
      "execution_count": null,
      "outputs": []
    },
    {
      "cell_type": "markdown",
      "source": [
        "#ESTRUTURAS DE REPETIÇÃO"
      ],
      "metadata": {
        "id": "vGJlITR75eGp"
      }
    },
    {
      "cell_type": "code",
      "source": [
        "#FOR\n",
        "\n",
        "numeros = [1,2,3,4,5,6,7,8,9,10]\n",
        "\n",
        "for i in numeros:\n",
        "  print(i)"
      ],
      "metadata": {
        "colab": {
          "base_uri": "https://localhost:8080/"
        },
        "id": "8OdA5lPZ5ijP",
        "outputId": "493552f8-233e-4b99-8089-97e4ab4dad5a"
      },
      "execution_count": null,
      "outputs": [
        {
          "output_type": "stream",
          "name": "stdout",
          "text": [
            "1\n",
            "2\n",
            "3\n",
            "4\n",
            "5\n",
            "6\n",
            "7\n",
            "8\n",
            "9\n",
            "10\n"
          ]
        }
      ]
    },
    {
      "cell_type": "code",
      "source": [
        "for i in range (1,11):\n",
        "  print(i)"
      ],
      "metadata": {
        "colab": {
          "base_uri": "https://localhost:8080/"
        },
        "id": "mzqBCRgBBWhA",
        "outputId": "2fa95742-3a0a-4097-9517-7f750f265ba3"
      },
      "execution_count": null,
      "outputs": [
        {
          "output_type": "stream",
          "name": "stdout",
          "text": [
            "1\n",
            "2\n",
            "3\n",
            "4\n",
            "5\n",
            "6\n",
            "7\n",
            "8\n",
            "9\n",
            "10\n"
          ]
        }
      ]
    },
    {
      "cell_type": "code",
      "source": [
        "#Como encontrar numeros pares\n",
        "for num in range(1,11):\n",
        "  if num %2 == 0:\n",
        "#O simbolo \"%\", é utilizado para representar uma divisão\n",
        "    print(num)"
      ],
      "metadata": {
        "colab": {
          "base_uri": "https://localhost:8080/"
        },
        "id": "UMcK9jYxBnYW",
        "outputId": "27e1885c-e824-446b-a93b-8f02aead81ec"
      },
      "execution_count": null,
      "outputs": [
        {
          "output_type": "stream",
          "name": "stdout",
          "text": [
            "2\n",
            "4\n",
            "6\n",
            "8\n",
            "10\n"
          ]
        }
      ]
    },
    {
      "cell_type": "code",
      "source": [
        "for letra in \"Riquelme\":\n",
        " print(letra)"
      ],
      "metadata": {
        "colab": {
          "base_uri": "https://localhost:8080/"
        },
        "id": "gK8rcYigDbpM",
        "outputId": "95de4973-8ff5-4ca2-9342-4ee76729f741"
      },
      "execution_count": null,
      "outputs": [
        {
          "output_type": "stream",
          "name": "stdout",
          "text": [
            "R\n",
            "i\n",
            "q\n",
            "u\n",
            "e\n",
            "l\n",
            "m\n",
            "e\n"
          ]
        }
      ]
    },
    {
      "cell_type": "code",
      "source": [
        "for num in range(2,21):\n",
        " e_primo = True\n",
        "\n",
        " for num_teste in range(2, num):\n",
        "   if num % num_teste == 0:\n",
        "     e_primo = False\n",
        "     break\n",
        "\n",
        " if(e_primo):\n",
        "   print(\"É primo: \" ,num)\n",
        " else:\n",
        "   print(\"Não é primo\" ,num)\n"
      ],
      "metadata": {
        "colab": {
          "base_uri": "https://localhost:8080/"
        },
        "id": "P57lgMPaD2RL",
        "outputId": "0ff2f489-f022-4195-c771-48dd4f8d6a97"
      },
      "execution_count": null,
      "outputs": [
        {
          "output_type": "stream",
          "name": "stdout",
          "text": [
            "É primo:  2\n",
            "É primo:  3\n",
            "Não é primo 4\n",
            "É primo:  5\n",
            "Não é primo 6\n",
            "É primo:  7\n",
            "Não é primo 8\n",
            "Não é primo 9\n",
            "Não é primo 10\n",
            "É primo:  11\n",
            "Não é primo 12\n",
            "É primo:  13\n",
            "Não é primo 14\n",
            "Não é primo 15\n",
            "Não é primo 16\n",
            "É primo:  17\n",
            "Não é primo 18\n",
            "É primo:  19\n",
            "Não é primo 20\n"
          ]
        }
      ]
    },
    {
      "cell_type": "code",
      "source": [
        "#WHILE / ira repetir uma certa quantidades de vezes com 1 condição\n",
        "\n",
        "n = 10\n",
        "\n",
        "while(n > 0):\n",
        "  print(n)\n",
        "  n = n - 1\n",
        "\n",
        "\n",
        "print(\"Encerrou\")"
      ],
      "metadata": {
        "colab": {
          "base_uri": "https://localhost:8080/"
        },
        "id": "nqxtKxiUH0GJ",
        "outputId": "d3aa8771-6f38-4e97-b731-23bb2b04dec4"
      },
      "execution_count": null,
      "outputs": [
        {
          "output_type": "stream",
          "name": "stdout",
          "text": [
            "10\n",
            "9\n",
            "8\n",
            "7\n",
            "6\n",
            "5\n",
            "4\n",
            "3\n",
            "2\n",
            "1\n",
            "Encerrou\n"
          ]
        }
      ]
    },
    {
      "cell_type": "markdown",
      "source": [
        "#Desafio da Aula 04"
      ],
      "metadata": {
        "id": "Taeglk294K7e"
      }
    },
    {
      "cell_type": "code",
      "source": [
        "num = float(input(\"o número \"))\n",
        "if num == 1:\n",
        "  print(\"é do mês: January\")\n",
        "if num == 2:\n",
        "  print(\"é do mês: February\")\n",
        "if num == 3:\n",
        "  print(\"é do mês: March\")\n",
        "if num == 4:\n",
        "  print(\"é do mês: May\")\n",
        "if num == 5:\n",
        "  print(\"é do mês: April\")\n",
        "if num == 6:\n",
        "  print(\"é do mês: June\")\n",
        "if num == 7:\n",
        "  print(\"é do mês: July\")\n",
        "if num == 8:\n",
        "  print(\"é do mês: August\")\n",
        "if num == 9:\n",
        "  print(\"é do mês: September\")\n",
        "if num == 10:\n",
        "  print(\"é do mês: October\")\n",
        "if num == 11:\n",
        "  print(\"é do mês: November \")\n",
        "if num == 12:\n",
        "  print(\"é do mês: December\")\n"
      ],
      "metadata": {
        "colab": {
          "base_uri": "https://localhost:8080/"
        },
        "id": "E6Adj8mQ4N-6",
        "outputId": "297efa90-73d8-4f5f-d4ab-ea5a0627ea2c"
      },
      "execution_count": null,
      "outputs": [
        {
          "output_type": "stream",
          "name": "stdout",
          "text": [
            "o número 10\n",
            "é do mês: October\n"
          ]
        }
      ]
    },
    {
      "cell_type": "code",
      "source": [
        "#Minha atividade\n",
        "\n",
        "Cachorro_quente = round(4.00)\n",
        "XSalada = round(4.50)\n",
        "XBacon = round(5.00)\n",
        "Torrada_simples = round(2.00)\n",
        "Refrigerante = round(1.50)\n",
        "total = \"Total R$\"\n",
        "\n",
        "codigo = [1,2,3,4,5]\n",
        "mensagem = int(input(\" Qual o seu pedido? \"))\n",
        "\n",
        "#Pedidos de uma unidade\n",
        "if(mensagem == 1 ):\n",
        "  print(\"Total R$: \", Cachorro_quente)\n",
        "if(mensagem == 2 ):\n",
        "  print(\"Total R$: \", XSalada)\n",
        "if(mensagem == 3 ):\n",
        "  print(\"Total R$: \", XBacon)\n",
        "if(mensagem == 4 ):\n",
        "  print(\"Total R$ \", Torrada_simples)\n",
        "if(mensagem == 5 ):\n",
        "  print(\"Total R$: \", Refrigerante)\n",
        "\n",
        "#Pedidos de duas unidades\n",
        "if(mensagem == 1 and 2 ):\n",
        "  print(\"Total R$: \", Cachorro_quente + XSalada)"
      ],
      "metadata": {
        "colab": {
          "base_uri": "https://localhost:8080/"
        },
        "id": "afo5AtwE-XXy",
        "outputId": "940cde07-cfb0-4413-f21f-859ca92b786b"
      },
      "execution_count": null,
      "outputs": [
        {
          "output_type": "stream",
          "name": "stdout",
          "text": [
            " Qual o seu pedido? 2\n",
            "Total R$:  4\n"
          ]
        }
      ]
    },
    {
      "cell_type": "code",
      "source": [
        "#desafio aula 4\n",
        "# Definindo o dicionário com os códigos e os preços dos itens\n",
        "tabela_precos = {\n",
        "1: 4.00,\n",
        "2: 4.50,\n",
        "3: 5.00,\n",
        "4: 2.00,\n",
        "5: 1.50\n",
        "}\n",
        "\n",
        "# Lendo o código do item e a quantidade\n",
        "codigo_item = int(input(\"Digite o codigo do item: \"))\n",
        "quantidade = int(input(\"Digite a quantidade: \"))\n",
        "\n",
        "#Verificando se o codigo do item é valido\n",
        "if codigo_item in tabela_precos:\n",
        "#calculando o valor total a ser pago\n",
        "  valor_total = tabela_precos[codigo_item] * quantidade\n",
        "\n",
        "#formatando a saida com duas casas decimais\n",
        "  valor_formatado = round(valor_total, 2)\n",
        "\n",
        "#imprimindo o valor total a ser pago\n",
        "  print(\"Total: R$\",valor_formatado)\n",
        "else:\n",
        "  print(\"Codigo de item invalido\")"
      ],
      "metadata": {
        "colab": {
          "base_uri": "https://localhost:8080/"
        },
        "id": "h_4ZUagcKHIk",
        "outputId": "03ace286-c714-49af-d120-8e661884d593"
      },
      "execution_count": null,
      "outputs": [
        {
          "output_type": "stream",
          "name": "stdout",
          "text": [
            "Digite o codigo do item: 2\n",
            "Digite a quantidade: 2\n",
            "Total: R$ 9.0\n"
          ]
        }
      ]
    },
    {
      "cell_type": "code",
      "source": [
        "Cachorro_quente = 4.00\n",
        "XSalada = 4.50\n",
        "XBacon = 5.00\n",
        "Torrada_simples = 2.00\n",
        "Refrigerante = 1.50\n",
        "\n",
        "\n",
        "mensagem = [1,2,3,4,5]\n",
        "codigo = int(input(\" Qual o seu pedido? \"))\n",
        "\n",
        "if (codigo == 1):\n",
        "    print(total = Cachorro_quente)\n",
        "elif (codigo == 2):\n",
        "    print(total + XSalada)\n",
        "elif (codigo == 3):\n",
        "    print(total = XBacon)\n",
        "elif (codigo == 4):\n",
        "    print(total = Torrada_simples)\n",
        "elif (codigo == 5):\n",
        "    print(total = Refrigerante)\n",
        "elif (codigo == 11):\n",
        "    print(total = Cachorro_quente + Cachorro_quente)\n",
        "elif (codigo == 12):\n",
        "    print(total = Cachorro_quente + XSalada)\n",
        "elif (codigo == 13):\n",
        "    print(total = XBacon + Cachorro_quente)\n",
        "\n",
        "    print(\"Total R$: \", total)\n",
        "\n",
        "else:\n",
        "   print(\"Invalid code\")\n"
      ],
      "metadata": {
        "colab": {
          "base_uri": "https://localhost:8080/"
        },
        "id": "psb6NVsyMduF",
        "outputId": "a89a5b5f-0d98-4cb2-9b3d-dd1e9030701e"
      },
      "execution_count": null,
      "outputs": [
        {
          "output_type": "stream",
          "name": "stdout",
          "text": [
            " Qual o seu pedido? 9\n",
            "Invalid code\n"
          ]
        }
      ]
    },
    {
      "cell_type": "markdown",
      "source": [
        "#OUTROS TIPOS DE LISTAS\n"
      ],
      "metadata": {
        "id": "CcJA3Pmy0reU"
      }
    },
    {
      "cell_type": "code",
      "source": [
        "#O que sao Litsts?\n",
        "\n",
        "#1- Sao ordenados\n",
        "#2- pode ter qualquer tipo de dado\n",
        "#3- acessada por indices a partir de 0\n",
        "#4- Sao mutaveis, ou seja, podem ser modificadas depois de criadas\n",
        "#5- Sao definidos por []\n",
        "\n",
        "#EXEMPLO:\n",
        "meu_list = [1,2,3,4,5]\n",
        "\n",
        "#O que sao SETS?\n",
        "\n",
        "#1- Nao sao ordenadas\n",
        "#2- Nao temos valores duplicados\n",
        "#3- A lista nao possui indicie\n",
        "#4- Sao mutaveis, podemos adicionar e remover itens\n",
        "#5- Sao definidos utilizando {}\n",
        "\n",
        "#EXEMPLO:\n",
        "meus_sets = {1,2,3,4,5}\n",
        "\n",
        "#O que sao Tuples?\n",
        "\n",
        "#1- Sao ordenadas e imutaveis(nao pode alterar nada depois de ser criada)\n",
        "#2- Aceita qualquer tipo de dado\n",
        "#3- Possui indicie\n",
        "#4- Sao definidas por ()\n",
        "\n",
        "#EXEMPLO:\n",
        "meu_tuple = (1,2,3,4,5)\n",
        "\n",
        "#O que é Dictionaries\n",
        "\n",
        "#1- Sao de pares chave-valor\n",
        "#2- Os elementos sao acessados por chaves, nao por indicies\n",
        "#3- As chaves devem ter um valor unico, porem o valor pode se repetir\n",
        "\n",
        "#EXEMPLO:\n",
        "meu_dictionario = {'senha': 123, 'senha2': 321}\n"
      ],
      "metadata": {
        "id": "CPtnfk7d0zVl"
      },
      "execution_count": null,
      "outputs": []
    },
    {
      "cell_type": "code",
      "source": [
        "#SETS/SET\n",
        "#Sao mutaveis e podemos utilizar metodos\n",
        "\n",
        "sets = set()\n",
        "\n",
        "sets.add(1)\n",
        "\n",
        "sets.add(2)\n",
        "\n",
        "print(sets)\n",
        "\n",
        "sets.add(1)\n",
        "#Listas do tipo SETS nao é possivel repetir valores/dados\n",
        "\n",
        "print(sets)"
      ],
      "metadata": {
        "colab": {
          "base_uri": "https://localhost:8080/"
        },
        "id": "HUIxcats6pgI",
        "outputId": "c97f6c5c-83c7-4d5e-9e0c-1ac5ecfda325"
      },
      "execution_count": null,
      "outputs": [
        {
          "output_type": "stream",
          "name": "stdout",
          "text": [
            "{1, 2}\n",
            "{1, 2}\n"
          ]
        }
      ]
    },
    {
      "cell_type": "code",
      "source": [
        "a = True\n",
        "b = False\n",
        "\n",
        "#Eu posso(se quiser sim) aplicar valores booleanos(verdadeiros ou falsos) a partir de expressoes\n",
        "\n",
        "c = 1 < 2\n",
        "d = 7 > 10\n",
        "print(a,b,c,d)"
      ],
      "metadata": {
        "colab": {
          "base_uri": "https://localhost:8080/"
        },
        "id": "_innIgjf8goe",
        "outputId": "092a62f3-c3e7-47a7-8494-ad18a4f06f8d"
      },
      "execution_count": null,
      "outputs": [
        {
          "output_type": "stream",
          "name": "stdout",
          "text": [
            "True False True False\n"
          ]
        }
      ]
    },
    {
      "cell_type": "code",
      "source": [
        "#TUPLAS\n",
        "#Varios tipos de dados\n",
        "tupla = ('um', 2, 'tres', True, 4.5, 'cinco ponto seis', False)\n",
        "\n",
        "print(tupla[2])\n",
        "print(tupla[2:5])\n",
        "print(\"-----------------------------------------------\")\n",
        "\n",
        "tupla2 = (1,2,2,3,3,3,4,4,4,4)\n",
        "\n",
        "#Metodos que conseguimos utilizar\n",
        "print(len(tupla2))\n",
        "print(tupla2.count(4))\n",
        "\n",
        "#Nao conshuimos utilizar pois uma tupla é imutavel\n",
        "\n",
        "#append(add algo no final)\n",
        "#pop(remover algum item)\n",
        "#remove(remover algum item em expecifico)\n",
        "#index(nao sei oq é)\n",
        "\n"
      ],
      "metadata": {
        "colab": {
          "base_uri": "https://localhost:8080/"
        },
        "id": "7physFia9ZvZ",
        "outputId": "78914e7a-346e-44a7-9a60-d312c9d3d1d2"
      },
      "execution_count": null,
      "outputs": [
        {
          "output_type": "stream",
          "name": "stdout",
          "text": [
            "tres\n",
            "('tres', True, 4.5)\n",
            "-----------------------------------------------\n",
            "10\n"
          ]
        }
      ]
    },
    {
      "cell_type": "code",
      "source": [
        "#Dictionaries\n",
        "\n",
        "dicionario = {\"defenestrar\": \"tacar o benicio pela janela\", \"ps5\":\"R$3500\", \"CHAVE1\": 3}\n",
        "print(dicionario[\"defenestras\"])"
      ],
      "metadata": {
        "id": "FLwsFIM8DVzC"
      },
      "execution_count": null,
      "outputs": []
    },
    {
      "cell_type": "code",
      "source": [
        "# {'chave':[valor1.valor2]}\n",
        "dicionario = {\"amor\": [\"sentimento carinhoso\", \"sentimento amoroso\"]}\n",
        "\n",
        "#Caso eu queira saber todos os sentidos:\n",
        "print(dicionario[\"amor\"])\n",
        "\n",
        "#Caso eu queira saber o sentido em especifico\n",
        "print(dicionario[\"amor\"][0])"
      ],
      "metadata": {
        "colab": {
          "base_uri": "https://localhost:8080/"
        },
        "id": "fL0gZ9WPGD0C",
        "outputId": "71bceab3-2082-46a2-9e6b-34fdd6bb727f"
      },
      "execution_count": null,
      "outputs": [
        {
          "output_type": "stream",
          "name": "stdout",
          "text": [
            "['sentimento carinhoso', 'sentimento amoroso']\n",
            "sentimento carinhoso\n"
          ]
        }
      ]
    },
    {
      "cell_type": "markdown",
      "source": [
        "#funções"
      ],
      "metadata": {
        "id": "sM72GVWT5Cwr"
      }
    },
    {
      "cell_type": "code",
      "source": [
        "def bem_vindo():\n",
        "  print(\"Seja bem-vindo \")\n",
        "\n",
        "bem_vindo()"
      ],
      "metadata": {
        "colab": {
          "base_uri": "https://localhost:8080/"
        },
        "id": "fmXVYcJr5E4Y",
        "outputId": "7895c8a8-c293-4e14-e5cc-8d86007fd49a"
      },
      "execution_count": null,
      "outputs": [
        {
          "output_type": "stream",
          "name": "stdout",
          "text": [
            "Seja bem-vindo \n"
          ]
        }
      ]
    },
    {
      "cell_type": "code",
      "source": [
        "def boas_vindas(nomeDeUsuario):\n",
        "  print(\"Seja bem-vindo, a aula \", nomeDeUsuario)\n",
        "\n",
        "boas_vindas(\"CR7\")\n",
        "\n",
        "def boas_vindas2(nomeDeUsuario):\n",
        "  print(\"Seja bem-vindo, a aula %s\" % (nomeDeUsuario))\n",
        "\n",
        "\n",
        "boas_vindas2(\"CR7\")\n"
      ],
      "metadata": {
        "colab": {
          "base_uri": "https://localhost:8080/"
        },
        "id": "AzoO5K1i6rcp",
        "outputId": "b23eb8d5-9d1c-4241-a609-1ae6fbd0e01c"
      },
      "execution_count": null,
      "outputs": [
        {
          "output_type": "stream",
          "name": "stdout",
          "text": [
            "Seja bem-vindo, a aula  CR7\n",
            "Seja bem-vindo, a aula CR7\n"
          ]
        }
      ]
    },
    {
      "cell_type": "code",
      "source": [
        "#Crie uma função chamada fime_favorito() que aceita um parametro chamado \"titulo\"\n",
        "#e a funcao deve exibir a mensagem \"Um dos meus filmes favoritos é ....\"\n",
        "\n",
        "def filme_favorito(titulo):\n",
        "  print(\"Meu filme favorito é\", titulo )\n",
        "\n",
        "filme_favorito(\"Minions\")\n",
        "\n",
        "def filme_favorito(titulo):\n",
        "  print(\"Meu filme favorito é %s\" % (titulo) )\n",
        "\n",
        "filme_favorito(\"Ponyo\")"
      ],
      "metadata": {
        "colab": {
          "base_uri": "https://localhost:8080/"
        },
        "id": "F68OkmLP-Pqk",
        "outputId": "ea5b0ff2-0ee7-4c04-c9dc-42b0e2cef74c"
      },
      "execution_count": 2,
      "outputs": [
        {
          "output_type": "stream",
          "name": "stdout",
          "text": [
            "Meu filme favorito é Minions\n",
            "Meu filme favorito é Ponyo\n"
          ]
        }
      ]
    },
    {
      "cell_type": "code",
      "source": [
        "# a forma da velocidade é V = D/T\n",
        "\n",
        "def velocidade(distancia, tempo):\n",
        "  velocidade = distancia // tempo\n",
        "  print(\"A sua velocidade é de: %d\" % (velocidade))\n",
        "#Um carro percorreu 100km/h em 1:30\n",
        "velocidade(100000, 7800)\n",
        "\n",
        "def velocidade(tempo, distancia = 100):\n",
        "  velocidade = distancia // tempo\n",
        "  print(\"A sua velocidade é de: %d\" % (velocidade))\n",
        "\n",
        "velocidade(20)"
      ],
      "metadata": {
        "colab": {
          "base_uri": "https://localhost:8080/"
        },
        "id": "RITyp7jiA_mi",
        "outputId": "3357151a-143a-4dcf-9b51-74c1a0dade69"
      },
      "execution_count": null,
      "outputs": [
        {
          "output_type": "stream",
          "name": "stdout",
          "text": [
            "A sua velocidade é de: 12\n",
            "A sua velocidade é de: 5\n"
          ]
        }
      ]
    },
    {
      "cell_type": "code",
      "source": [
        "def menor(a, b):\n",
        "  if a<=b:\n",
        "    return a\n",
        "  else:\n",
        "    return b\n",
        "\n"
      ],
      "metadata": {
        "id": "UCb4k8KeEPq7"
      },
      "execution_count": null,
      "outputs": []
    },
    {
      "cell_type": "code",
      "source": [
        "a = int(input(\"Digite o primeiro numero: \"))\n",
        "b = int(input(\"Digite o segundo numero: \"))\n",
        "\n",
        "print(\"O menor valor entre %d e %d é %d\" % (a, b, menor(a, b)))\n",
        "\n",
        "\n"
      ],
      "metadata": {
        "colab": {
          "base_uri": "https://localhost:8080/"
        },
        "id": "MKPj5Ql-EvEr",
        "outputId": "31834a48-e4c8-4fe7-a4be-943e12bf342f"
      },
      "execution_count": null,
      "outputs": [
        {
          "output_type": "stream",
          "name": "stdout",
          "text": [
            "Digite o primeiro numero: 1\n",
            "Digite o segundo numero: 7\n",
            "O menor valor entre 1 e 7 é 1\n"
          ]
        }
      ]
    },
    {
      "cell_type": "markdown",
      "source": [
        "#testes"
      ],
      "metadata": {
        "id": "Cq98yHHhW5-C"
      }
    },
    {
      "cell_type": "code",
      "source": [
        "numero_de_irmaos = 2\n",
        "\n",
        "print(\"você tem \" + str(numero_de_irmaos) + \" irmãos\")"
      ],
      "metadata": {
        "colab": {
          "base_uri": "https://localhost:8080/"
        },
        "id": "bj6mvgP-W8L9",
        "outputId": "ed5b184a-2071-41c1-9c3d-6a43696ca682"
      },
      "execution_count": null,
      "outputs": [
        {
          "output_type": "stream",
          "name": "stdout",
          "text": [
            "você tem 2 irmãos\n"
          ]
        }
      ]
    },
    {
      "cell_type": "code",
      "source": [
        "exemplo2 = \"escola é vida\"\n",
        "cadapalavra = exemplo2.split()\n",
        "print(cadapalavra[2])"
      ],
      "metadata": {
        "colab": {
          "base_uri": "https://localhost:8080/"
        },
        "id": "K4bE6I4efNc6",
        "outputId": "b9f7d3ee-9c80-4aeb-88dc-53f370f6dd26"
      },
      "execution_count": null,
      "outputs": [
        {
          "output_type": "stream",
          "name": "stdout",
          "text": [
            "vida\n"
          ]
        }
      ]
    },
    {
      "cell_type": "markdown",
      "source": [
        "#DESAFIO DA AULA 03\n"
      ],
      "metadata": {
        "id": "O9QsIAk_jj4l"
      }
    },
    {
      "cell_type": "code",
      "source": [
        "n0 = 1\n",
        "n1 = 2\n",
        "n2 = 4\n",
        "n3 = 8\n",
        "n4 = 16\n",
        "n5 = 32\n",
        "\n",
        "\n",
        "posicao_do_vetor = int(input(\"Qual posição do vetor você gostaria de saber o valor? \"))\n",
        "\n",
        "if (posicao_do_vetor == 0):\n",
        "   print(\"O valor do vetor \" + str(posicao_do_vetor) + \" é: %d\" % (n0))\n",
        "\n",
        "if (posicao_do_vetor == 1):\n",
        "   print(\"O valor do vetor \" + str(posicao_do_vetor) + \" é: %d\" % (n1))\n",
        "if (posicao_do_vetor == 2):\n",
        "   print(\"O valor do vetor \" + str(posicao_do_vetor) + \" é: %d\" % (n2))\n",
        "if (posicao_do_vetor == 3):\n",
        "   print(\"O valor do vetor \" + str(posicao_do_vetor) + \" é: %d\" % (n3))\n",
        "if (posicao_do_vetor == 4):\n",
        "   print(\"O valor do vetor \" + str(posicao_do_vetor) + \" é: %d\" % (n4))\n",
        "if (posicao_do_vetor == 5):\n",
        "   print(\"O valor do vetor \" + str(posicao_do_vetor) + \" é: %d\" % (n5))\n",
        "\n",
        "elif (posicao_do_vetor >= 6):\n",
        "    print(\"O vetor \" + str(posicao_do_vetor) + \" não existe\")"
      ],
      "metadata": {
        "colab": {
          "base_uri": "https://localhost:8080/"
        },
        "id": "EYu_h0HwjmTm",
        "outputId": "4c846e3f-a438-4d7e-b81c-212d8006b16e"
      },
      "execution_count": null,
      "outputs": [
        {
          "output_type": "stream",
          "name": "stdout",
          "text": [
            "Qual posição do vetor você gostaria de saber o valor? 123\n",
            "O vetor 123 não existe\n"
          ]
        }
      ]
    },
    {
      "cell_type": "code",
      "source": [
        "n0 = -10\n",
        "n1 = -9\n",
        "n2 = -8\n",
        "n3 = -7\n",
        "n4 = -6\n",
        "n5 = -5\n",
        "n6 = -4\n",
        "n7 = -3\n",
        "n8 = -2\n",
        "n9 = -1\n",
        "n10 = 0\n",
        "n11 = 1\n",
        "n12 = 2\n",
        "n13 = 3\n",
        "n14 = 4\n",
        "n15 = 5\n",
        "n16 = 6\n",
        "n17 = 7\n",
        "n18 = 8\n",
        "n19 = 9\n",
        "n20 = 10"
      ],
      "metadata": {
        "id": "IDgnBBGp4FYy"
      },
      "execution_count": null,
      "outputs": []
    },
    {
      "cell_type": "code",
      "source": [
        "posicao_do_vetor2 = int(input(\"Qual posição do vetor você gostaria de saber o valor? \"))\n",
        "if (posicao_do_vetor2 == 0):\n",
        "  print(\"O valor do vetor \" + str(posicao_do_vetor2) + \" é: %d\" %(n0))\n",
        "if (posicao_do_vetor2 == 1):\n",
        "   print(\"O valor do vetor \" + str(posicao_do_vetor2) + \" é: %d\" % (n1))\n",
        "if (posicao_do_vetor2 == 2):\n",
        "   print(\"O valor do vetor \" + str(posicao_do_vetor2) + \" é: %d\" % (n2))\n",
        "if (posicao_do_vetor2 == 3):\n",
        "   print(\"O valor do vetor \" + str(posicao_do_vetor2) + \" é: %d\" % (n3))\n",
        "if (posicao_do_vetor2 == 4):\n",
        "   print(\"O valor do vetor \" + str(posicao_do_vetor2) + \" é: %d\" % (n4))\n",
        "if (posicao_do_vetor2 == 5):\n",
        "   print(\"O valor do vetor \" + str(posicao_do_vetor2) + \" é: %d\" % (n5))\n",
        "if (posicao_do_vetor2 == 6):\n",
        "  print(\"O valor do vetor \" + str(posicao_do_vetor2) + \" é: %d\" %(n6))\n",
        "if (posicao_do_vetor2 == 7):\n",
        "   print(\"O valor do vetor \" + str(posicao_do_vetor2) + \" é: %d\" % (n7))\n",
        "if (posicao_do_vetor2 == 8):\n",
        "   print(\"O valor do vetor \" + str(posicao_do_vetor2) + \" é: %d\" % (n8))\n",
        "if (posicao_do_vetor2 == 9):\n",
        "   print(\"O valor do vetor \" + str(posicao_do_vetor2) + \" é: %d\" % (n9))\n",
        "if (posicao_do_vetor2 == 10):\n",
        "   print(\"O valor do vetor \" + str(posicao_do_vetor2) + \" é: %d\" % (n10))\n",
        "if (posicao_do_vetor2 == 11):\n",
        "   print(\"O valor do vetor \" + str(posicao_do_vetor2) + \" é: %d\" % (n11))\n",
        "if (posicao_do_vetor2 == 12):\n",
        "  print(\"O valor do vetor \" + str(posicao_do_vetor2) + \" é: %d\" %(n12))\n",
        "if (posicao_do_vetor2 == 13):\n",
        "   print(\"O valor do vetor \" + str(posicao_do_vetor2) + \" é: %d\" % (n13))\n",
        "if (posicao_do_vetor2 == 14):\n",
        "   print(\"O valor do vetor \" + str(posicao_do_vetor2) + \" é: %d\" % (n14))\n",
        "if (posicao_do_vetor2 == 15):\n",
        "   print(\"O valor do vetor \" + str(posicao_do_vetor2) + \" é: %d\" % (n15))\n",
        "if (posicao_do_vetor2 == 16):\n",
        "   print(\"O valor do vetor \" + str(posicao_do_vetor2) + \" é: %d\" % (n16))\n",
        "if (posicao_do_vetor2 == 17):\n",
        "   print(\"O valor do vetor \" + str(posicao_do_vetor2) + \" é: %d\" % (n17))\n",
        "if (posicao_do_vetor2 == 18):\n",
        "  print(\"O valor do vetor \" + str(posicao_do_vetor2) + \" é: %d\" %(n18))\n",
        "if (posicao_do_vetor2 == 19):\n",
        "   print(\"O valor do vetor \" + str(posicao_do_vetor2) + \" é: %d\" % (n19))\n",
        "if (posicao_do_vetor2 == 20):\n",
        "   print(\"O valor do vetor \" + str(posicao_do_vetor2) + \" é: %d\" % (n20))\n",
        "\n",
        "elif (posicao_do_vetor2 >= 21):\n",
        "   print(\"O vetor \" + str(posicao_do_vetor2) + \" não existe\")"
      ],
      "metadata": {
        "colab": {
          "base_uri": "https://localhost:8080/"
        },
        "id": "MpRwVmJo4yNw",
        "outputId": "6cd86c10-7e02-4eef-a75d-2414b71f1c0c"
      },
      "execution_count": null,
      "outputs": [
        {
          "output_type": "stream",
          "name": "stdout",
          "text": [
            "Qual posição do vetor você gostaria de saber o valor? 22\n",
            "O vetor 22 não existe\n"
          ]
        }
      ]
    },
    {
      "cell_type": "markdown",
      "source": [
        "#DESAFIOS DA AULA 08"
      ],
      "metadata": {
        "id": "vu3s7oAN_lpE"
      }
    },
    {
      "cell_type": "code",
      "source": [
        "#O que são variaveis em python?\n",
        "São como gavetas em que usamos para armazenar coisas(dados)\n",
        "\n",
        "#Como voce acessa um elemento em especifico em uma lista?\n",
        "\n",
        "Para consultar uma aprte expecifica de uma lista, basta dar um print nela e selecionando a posição desejada\n",
        "exemplo:\n",
        "convidados = [\" lara\", \"maria\", \"jose\", \"jonas\"]\n",
        "\n",
        "print(convidados[0])\n",
        "\n",
        "\n",
        "#Explique o que são funções em python?\n",
        "São como blocos que podemos agrupa-las aos codigos\n",
        "(este eu admito que não explicar ou utilizar bem)\n",
        "\n",
        "#O que é loop de repetição? Cite dois loops em python\n",
        "For e While\n",
        "\n",
        "#Quais são os operadores de comparação em python?\n",
        "<,>,=,==,!\n",
        "\n",
        "#Explique o que são condicionais em Python\n",
        "Os condicionais são condições que damos ao programa seguir.\n",
        "\n",
        "#Como você declara uma função em python?\n",
        "exmplo: def objeto(parametros)\n",
        "\n",
        "#Como você solicita entrada de dados do usuario em python?\n",
        "utilizando o input\n",
        "\n",
        "#Escreva um programa que solicita ao usuário seu nome e o saúda.\n",
        "nome = input(\"Qual o seu nome? : \")\n",
        "print(\"Saudações \" + str(nome))\n",
        "\n",
        "#Crie uma função que recebe dois números como entrada e retorna a soma deles.\n",
        "primeiro = int(input(\"Quais numeros deseja somar? : \"))\n",
        "segundo = int(input(\"Qual a segunda unicade? : \" ))\n",
        "\n",
        "print(primeiro + segundo)\n",
        "\n",
        "#Escreva um programa que verifica se um número é par ou ímpar e imprime uma mensagem correspondente.\n",
        "numero = int(input(\"Qual numero deseja verificar? : \"))\n",
        "primo = \"Este numero é primo\"\n",
        "nprimo = \"Este numero não é primo\"\n",
        "\n",
        "if (numero % numero == 1):\n",
        "  print(primo)\n",
        "\n",
        "elif (numero % numero >= 2):\n",
        "  print(nprimo)\n",
        "\n",
        "(inacabado)\n",
        "#Crie uma lista com os nomes de três amigos. Imprima cada nome separadamente.\n",
        "amigos = [\"Maria\", \"jose\", \"nicolas\"]\n",
        "\n",
        "print(amigos[0])\n",
        "print(amigos[1])\n",
        "print(amigos[2])\n",
        "\n",
        "#Escreva um programa que calcula a média de três números digitados pelo usuário.\n",
        "\n",
        "\n",
        "#Crie uma função que recebe uma lista como entrada e retorna o maior número presente nessa lista.\n",
        "\n",
        "\n",
        "#Escreva um programa que solicita ao usuário um número e verifica se ele é positivo, negativo ou zero.\n",
        "numero = int(input(\"Qual numero deseja saber se é positivo, negativo ou neutro? : \"))\n",
        "positivo = \"O numero escolhido é positivo \"\n",
        "negativo = \"O numero escolhido é negativo \"\n",
        "neutro = \"O numero escolhido é neutro/zero\"\n",
        "\n",
        "if (numero >= 1):\n",
        "    print(positivo)\n",
        "\n",
        "elif (numero == 0 ):\n",
        "    print(neutro)\n",
        "\n",
        "elif (numero <= -1):\n",
        "    print(negativo)\n",
        "\n",
        "\n",
        "#Crie uma lista com os números de 1 a 10 e imprima apenas os números pares.\n",
        "\n",
        "\n",
        "#Escreva um programa que solicita ao usuário um número e verifica se ele é divisível por 3.\n",
        "numero = int(input(\"Qual numero deseja saber se é divisivel por 3? :\"))\n",
        "nao = \"O numero escolhido não é divisivel por 3\"\n",
        "sim = \"O numero escolhido é divisivel por 3\"\n",
        "\n",
        "if (numero %3 == 0):\n",
        "  print(sim)\n",
        "\n",
        "elif (numero %3 > 0 ):\n",
        "  print(nao)\n",
        "\n",
        "#Crie uma função que recebe uma lista de números e retorna outra lista com os números elevados ao quadrado.\n",
        "numeros = [1, 2, 3, 4, 5]\n",
        "print(numeros)\n",
        "\n",
        "print(numeros**numeros)\n",
        "(inacabado)"
      ],
      "metadata": {
        "id": "DJVNOKKb_-Zn"
      },
      "execution_count": null,
      "outputs": []
    },
    {
      "cell_type": "code",
      "source": [],
      "metadata": {
        "colab": {
          "base_uri": "https://localhost:8080/",
          "height": 193
        },
        "id": "vP0xVcwjE_R0",
        "outputId": "12a84654-509c-48fc-893e-bdeb20a60794"
      },
      "execution_count": null,
      "outputs": [
        {
          "output_type": "stream",
          "name": "stdout",
          "text": [
            "[1, 2, 3, 4, 5]\n"
          ]
        },
        {
          "output_type": "error",
          "ename": "TypeError",
          "evalue": "unsupported operand type(s) for ** or pow(): 'list' and 'list'",
          "traceback": [
            "\u001b[0;31m---------------------------------------------------------------------------\u001b[0m",
            "\u001b[0;31mTypeError\u001b[0m                                 Traceback (most recent call last)",
            "\u001b[0;32m<ipython-input-48-0aabaefa2cbe>\u001b[0m in \u001b[0;36m<cell line: 4>\u001b[0;34m()\u001b[0m\n\u001b[1;32m      2\u001b[0m \u001b[0mprint\u001b[0m\u001b[0;34m(\u001b[0m\u001b[0mnumeros\u001b[0m\u001b[0;34m)\u001b[0m\u001b[0;34m\u001b[0m\u001b[0;34m\u001b[0m\u001b[0m\n\u001b[1;32m      3\u001b[0m \u001b[0;34m\u001b[0m\u001b[0m\n\u001b[0;32m----> 4\u001b[0;31m \u001b[0mprint\u001b[0m\u001b[0;34m(\u001b[0m\u001b[0mnumeros\u001b[0m\u001b[0;34m**\u001b[0m\u001b[0mnumeros\u001b[0m\u001b[0;34m)\u001b[0m\u001b[0;34m\u001b[0m\u001b[0;34m\u001b[0m\u001b[0m\n\u001b[0m",
            "\u001b[0;31mTypeError\u001b[0m: unsupported operand type(s) for ** or pow(): 'list' and 'list'"
          ]
        }
      ]
    },
    {
      "cell_type": "markdown",
      "source": [
        "#MODULOS"
      ],
      "metadata": {
        "id": "JlXmhLoQABPF"
      }
    },
    {
      "cell_type": "code",
      "source": [
        "#importando um modulo\n",
        "import math"
      ],
      "metadata": {
        "id": "k0WhDOaLAEA2"
      },
      "execution_count": null,
      "outputs": []
    },
    {
      "cell_type": "code",
      "source": [
        "#2 elevado a 3\n",
        "print(math.pow(4,3))\n",
        "\n",
        "#arredondar valores\n",
        "print(math.ceil(2.5))#arredondar para cima\n",
        "print(math.trunc(2.5))#arredondar para baixo"
      ],
      "metadata": {
        "colab": {
          "base_uri": "https://localhost:8080/"
        },
        "id": "fH-YRuLzBEqh",
        "outputId": "1488fd02-6dcf-4095-a20a-dded12529167"
      },
      "execution_count": null,
      "outputs": [
        {
          "output_type": "stream",
          "name": "stdout",
          "text": [
            "64.0\n",
            "3\n",
            "2\n"
          ]
        }
      ]
    },
    {
      "cell_type": "code",
      "source": [
        "#Como ver todas as funcoes de um modulo\n",
        "print(dir(math))"
      ],
      "metadata": {
        "colab": {
          "base_uri": "https://localhost:8080/"
        },
        "id": "2Ac60QcWDKNO",
        "outputId": "0c291ade-eb11-4ff3-b7b6-473f184e4305"
      },
      "execution_count": null,
      "outputs": [
        {
          "output_type": "stream",
          "name": "stdout",
          "text": [
            "['__doc__', '__loader__', '__name__', '__package__', '__spec__', 'acos', 'acosh', 'asin', 'asinh', 'atan', 'atan2', 'atanh', 'ceil', 'comb', 'copysign', 'cos', 'cosh', 'degrees', 'dist', 'e', 'erf', 'erfc', 'exp', 'expm1', 'fabs', 'factorial', 'floor', 'fmod', 'frexp', 'fsum', 'gamma', 'gcd', 'hypot', 'inf', 'isclose', 'isfinite', 'isinf', 'isnan', 'isqrt', 'lcm', 'ldexp', 'lgamma', 'log', 'log10', 'log1p', 'log2', 'modf', 'nan', 'nextafter', 'perm', 'pi', 'pow', 'prod', 'radians', 'remainder', 'sin', 'sinh', 'sqrt', 'tan', 'tanh', 'tau', 'trunc', 'ulp']\n"
          ]
        }
      ]
    },
    {
      "cell_type": "code",
      "source": [
        "print(math.radians(1000000000))"
      ],
      "metadata": {
        "colab": {
          "base_uri": "https://localhost:8080/"
        },
        "id": "yiVfF8O6DPSG",
        "outputId": "53736c2c-8bb7-4e74-fa8e-e44f6de1665c"
      },
      "execution_count": null,
      "outputs": [
        {
          "output_type": "stream",
          "name": "stdout",
          "text": [
            "17453292.519943297\n"
          ]
        }
      ]
    },
    {
      "cell_type": "code",
      "source": [
        "from google.colab import drive\n",
        "drive.mount(\"/content/gdrive\")"
      ],
      "metadata": {
        "colab": {
          "base_uri": "https://localhost:8080/"
        },
        "id": "BHv3gkpkIg8r",
        "outputId": "9ecd888b-e1ac-444b-e5d9-fee53a67449a"
      },
      "execution_count": null,
      "outputs": [
        {
          "output_type": "stream",
          "name": "stdout",
          "text": [
            "Mounted at /content/gdrive\n"
          ]
        }
      ]
    },
    {
      "cell_type": "code",
      "source": [
        "import sys\n",
        "\n",
        "sys.path.insert(0, '/content/gdrive/MyDrive/Modulos')"
      ],
      "metadata": {
        "id": "Cj69URGWKZpL"
      },
      "execution_count": null,
      "outputs": []
    },
    {
      "cell_type": "code",
      "source": [
        "import calculadora"
      ],
      "metadata": {
        "id": "s8oqcDvQM3jZ"
      },
      "execution_count": null,
      "outputs": []
    },
    {
      "cell_type": "code",
      "source": [
        "calculadora.soma(5,5)"
      ],
      "metadata": {
        "colab": {
          "base_uri": "https://localhost:8080/"
        },
        "id": "T0HSqWmjM8Wx",
        "outputId": "60865d74-8a43-4dc0-ceca-c87c956a470c"
      },
      "execution_count": null,
      "outputs": [
        {
          "output_type": "execute_result",
          "data": {
            "text/plain": [
              "10"
            ]
          },
          "metadata": {},
          "execution_count": 12
        }
      ]
    },
    {
      "cell_type": "markdown",
      "source": [
        "#Arquivos"
      ],
      "metadata": {
        "id": "TDs_xC1gR4s8"
      }
    },
    {
      "cell_type": "code",
      "source": [
        "%%writefile texto.txt\n",
        "\n",
        " O Benicio é um aluno de 13 anos,\n",
        " Bryan joga Roblox,\n",
        " Riquelme é Santista,\n",
        " David Já ganhou na mega sena e\n",
        " Vinicius joga beach tenis\n"
      ],
      "metadata": {
        "colab": {
          "base_uri": "https://localhost:8080/"
        },
        "id": "XvQPENdBR8CN",
        "outputId": "77130823-557f-43b9-8a03-cc96d35fd792"
      },
      "execution_count": null,
      "outputs": [
        {
          "output_type": "stream",
          "name": "stdout",
          "text": [
            "Overwriting texto.txt\n"
          ]
        }
      ]
    },
    {
      "cell_type": "code",
      "source": [
        "#Abre um arquivo txt ja existente\n",
        "\n",
        "arquivo = open('texto.txt')"
      ],
      "metadata": {
        "id": "1AK4aESkSZAY"
      },
      "execution_count": null,
      "outputs": []
    },
    {
      "cell_type": "code",
      "source": [
        "#Lê todo o arquivo\n",
        "arquivo.read()"
      ],
      "metadata": {
        "colab": {
          "base_uri": "https://localhost:8080/",
          "height": 53
        },
        "id": "huBYfhpdSx-o",
        "outputId": "2ae707a2-83c1-450e-c0f4-7a93580a0ca9"
      },
      "execution_count": null,
      "outputs": [
        {
          "output_type": "execute_result",
          "data": {
            "text/plain": [
              "'\\n O Benicio é um aluno de 13 anos,\\n Bryan joga Roblox,\\n Riquelme é Santista,\\n David Já ganhou na mega sena e \\n Vinicius joga beach tenis \\n'"
            ],
            "application/vnd.google.colaboratory.intrinsic+json": {
              "type": "string"
            }
          },
          "metadata": {},
          "execution_count": 19
        }
      ]
    },
    {
      "cell_type": "code",
      "source": [
        "#Lendo linha por linha\n",
        "print(arquivo.readline())"
      ],
      "metadata": {
        "colab": {
          "base_uri": "https://localhost:8080/"
        },
        "id": "9xrGMCEYTHc9",
        "outputId": "a629d01f-21f2-49fa-d2ad-f45409ab6c4c"
      },
      "execution_count": null,
      "outputs": [
        {
          "output_type": "stream",
          "name": "stdout",
          "text": [
            "\n"
          ]
        }
      ]
    },
    {
      "cell_type": "code",
      "source": [
        "#Procurando o inicio do arquivo\n",
        "arquivo.seek(0)\n",
        "#Agora a gente lê o arquivo do inicio\n",
        "arquivo.read()"
      ],
      "metadata": {
        "colab": {
          "base_uri": "https://localhost:8080/",
          "height": 53
        },
        "id": "7tXdeFoVTVb8",
        "outputId": "4dd9bb37-cb18-42ee-a7dd-7eafb4710eb3"
      },
      "execution_count": null,
      "outputs": [
        {
          "output_type": "execute_result",
          "data": {
            "text/plain": [
              "'\\n O Benicio é um aluno de 13 anos,\\n Bryan joga Roblox,\\n Riquelme é Santista,\\n David Já ganhou na mega sena e \\n Vinicius joga beach tenis \\n'"
            ],
            "application/vnd.google.colaboratory.intrinsic+json": {
              "type": "string"
            }
          },
          "metadata": {},
          "execution_count": 21
        }
      ]
    },
    {
      "cell_type": "code",
      "source": [
        "%%writefile herois.txt\n",
        "Miranha, Morceguinho, Tortuguita,\n",
        "Aranha-venenosa e Gelinho"
      ],
      "metadata": {
        "colab": {
          "base_uri": "https://localhost:8080/"
        },
        "id": "ftGHOXUyVVJ1",
        "outputId": "7eff7173-d38b-4ec9-f39c-efdc5daeadb8"
      },
      "execution_count": null,
      "outputs": [
        {
          "output_type": "stream",
          "name": "stdout",
          "text": [
            "Writing herois.txt\n"
          ]
        }
      ]
    },
    {
      "cell_type": "code",
      "source": [
        "arquivo = open('herois.txt')\n",
        "#Lendo linha por linha\n",
        "print(arquivo.readline())\n",
        "#Lendo segunda linha\n",
        "print(arquivo.readline())"
      ],
      "metadata": {
        "colab": {
          "base_uri": "https://localhost:8080/"
        },
        "id": "2HWtrWmqVfo6",
        "outputId": "8c5c7e1f-e5af-4973-f0cb-54b7046faec7"
      },
      "execution_count": null,
      "outputs": [
        {
          "output_type": "stream",
          "name": "stdout",
          "text": [
            "Miranha, Morceguinho, Tortuguita,\n",
            "\n",
            "Aranha-venenosa e Gelinho\n",
            "\n"
          ]
        }
      ]
    },
    {
      "cell_type": "code",
      "source": [
        "#Lendo o arquivo inteiro com o \"FOR\"\n",
        "arquivo = open('herois.txt', 'r')\n",
        "\n",
        "for x in arquivo:\n",
        "  print(x)"
      ],
      "metadata": {
        "colab": {
          "base_uri": "https://localhost:8080/"
        },
        "id": "b0Knjt8sWbiC",
        "outputId": "c46ea7bc-6385-45bf-88cf-fd8c2cc3c67c"
      },
      "execution_count": null,
      "outputs": [
        {
          "output_type": "stream",
          "name": "stdout",
          "text": [
            "Miranha, Morceguinho, Tortuguita,\n",
            "\n",
            "Aranha-venenosa e Gelinho\n",
            "\n"
          ]
        }
      ]
    },
    {
      "cell_type": "code",
      "source": [
        "#Adiciona um sgundo argumento a funcao, w, para escrita\n",
        "arquivo = open('herois.txt', 'w')"
      ],
      "metadata": {
        "id": "XqhETspZY0wH"
      },
      "execution_count": null,
      "outputs": []
    },
    {
      "cell_type": "code",
      "source": [
        "#Escrever no arquivo\n",
        "arquivo.write('Latão, Vencivel')"
      ],
      "metadata": {
        "colab": {
          "base_uri": "https://localhost:8080/"
        },
        "id": "ADlqg_oRXjRY",
        "outputId": "2051d7e6-5ef7-440d-ead1-a422d882a85a"
      },
      "execution_count": null,
      "outputs": [
        {
          "output_type": "execute_result",
          "data": {
            "text/plain": [
              "15"
            ]
          },
          "metadata": {},
          "execution_count": 27
        }
      ]
    },
    {
      "cell_type": "code",
      "source": [
        "arquivo = open('herois.txt')\n",
        "arquivo.seek(0)\n",
        "arquivo.read()"
      ],
      "metadata": {
        "colab": {
          "base_uri": "https://localhost:8080/",
          "height": 35
        },
        "id": "czXHWGjVYw34",
        "outputId": "4dd03292-bbbf-4236-beaa-aa1db8c5f6be"
      },
      "execution_count": null,
      "outputs": [
        {
          "output_type": "execute_result",
          "data": {
            "text/plain": [
              "''"
            ],
            "application/vnd.google.colaboratory.intrinsic+json": {
              "type": "string"
            }
          },
          "metadata": {},
          "execution_count": 28
        }
      ]
    },
    {
      "cell_type": "code",
      "source": [
        "arquivo = open('herois.txt')"
      ],
      "metadata": {
        "id": "y9CE3-5uZEOV"
      },
      "execution_count": null,
      "outputs": []
    },
    {
      "cell_type": "code",
      "source": [
        "arquivo = close('herois.txt')"
      ],
      "metadata": {
        "colab": {
          "base_uri": "https://localhost:8080/",
          "height": 141
        },
        "id": "d5WIYoKvZXSt",
        "outputId": "b43cc1a0-a1bc-4abe-b077-2291a1277b83"
      },
      "execution_count": null,
      "outputs": [
        {
          "output_type": "error",
          "ename": "TypeError",
          "evalue": "'str' object cannot be interpreted as an integer",
          "traceback": [
            "\u001b[0;31m---------------------------------------------------------------------------\u001b[0m",
            "\u001b[0;31mTypeError\u001b[0m                                 Traceback (most recent call last)",
            "\u001b[0;32m<ipython-input-32-4ea76cea8fb2>\u001b[0m in \u001b[0;36m<cell line: 1>\u001b[0;34m()\u001b[0m\n\u001b[0;32m----> 1\u001b[0;31m \u001b[0marquivo\u001b[0m \u001b[0;34m=\u001b[0m \u001b[0mclose\u001b[0m\u001b[0;34m(\u001b[0m\u001b[0;34m'herois.txt'\u001b[0m\u001b[0;34m)\u001b[0m\u001b[0;34m\u001b[0m\u001b[0;34m\u001b[0m\u001b[0m\n\u001b[0m",
            "\u001b[0;31mTypeError\u001b[0m: 'str' object cannot be interpreted as an integer"
          ]
        }
      ]
    },
    {
      "cell_type": "code",
      "source": [],
      "metadata": {
        "id": "69ePXCihZZnO"
      },
      "execution_count": null,
      "outputs": []
    },
    {
      "cell_type": "markdown",
      "source": [
        "#Competição da Aula 10\n"
      ],
      "metadata": {
        "id": "ur-_af9qDskn"
      }
    },
    {
      "cell_type": "code",
      "source": [
        "#Calculadora Simples: Peça aos alunos para criar uma calculadora que pode realizar operações básicas como adição, subtração, multiplicação e divisão.\n",
        "duvida = input(\"Quais numeros deseja calcular?\")\n",
        "\n",
        "#Tabuada: Peça aos alunos para escrever um programa que gere a tabuada de um número fornecido pelo usuário.\n",
        "\n",
        "#Verificador de Números Primos: Peça aos alunos para criar um programa que verifica se um número fornecido pelo usuário é primo ou não.\n",
        "\n",
        "#Jogo de Adivinhação: Crie um jogo onde o programa escolhe um número aleatório e o jogador tem que adivinhar qual é esse número. Dê dicas ao jogador conforme ele faz suas tentativas.\n",
        "\n",
        "#Lista de Compras: Peça aos alunos para criar um programa que gerencie uma lista de compras, permitindo adicionar, remover e exibir os itens da lista.\n",
        "\n",
        "#Conversor de Temperatura: Peça aos alunos para criar um programa que converta uma temperatura de Celsius para Fahrenheit e vice-versa.\n",
        "\n",
        "#Contador de Palavras: Crie um programa que conte quantas palavras há em uma frase fornecida pelo usuário.\n",
        "\n",
        "#Média de Notas: Peça aos alunos para criar um programa que calcula a média de notas de um aluno em diferentes disciplinas.\n",
        "\n",
        "#Sorteio de Números: Crie um programa que sorteie números aleatórios e os armazene em uma lista, depois peça aos alunos para encontrar o maior e o menor número da lista.\n",
        "\n",
        "#Criador de Listas: Peça aos alunos para criar um programa que permita ao usuário criar e gerenciar listas de itens, como uma lista de tarefas a fazer."
      ],
      "metadata": {
        "id": "4YTdDFOEDw5E"
      },
      "execution_count": null,
      "outputs": []
    },
    {
      "cell_type": "code",
      "source": [
        "login = input(\"Qual a sua senha? : \")\n",
        "letras = [\"a\", \"b\", \"c\", \"d\", \"e\", \"f\", \"g\", \"h\", \"i\", \"j\", \"k\", \"l\", \"m\", \"n\", \"o\", \"p\", \"q\", \"r\", \"s\", \"t\", \"u\", \"v\", \"w\", \"x\", \"y\", \"z\"]\n",
        "num = [0, 1, 2, 3, 4, 5, 6, 7, 8, 9]\n",
        "esp = [\"@\", \"#\", \"!\", \"$\", \"%\", \"¨¨\", \"&\", \"*\", \"_\", \"-\"]\n",
        "def validar_senha(senha):\n",
        "  senha = login\n",
        "\n",
        "  if len(login) > 8 and any(char in esp for char in login):\n",
        "    return True\n",
        "  else:\n",
        "    return False\n",
        "\n"
      ],
      "metadata": {
        "id": "3WvwQKWXD2vH",
        "colab": {
          "base_uri": "https://localhost:8080/"
        },
        "outputId": "318e7560-3e08-40c0-c8e6-1ff561722984"
      },
      "execution_count": 20,
      "outputs": [
        {
          "name": "stdout",
          "output_type": "stream",
          "text": [
            "Qual a sua senha? : 12312312!\n"
          ]
        }
      ]
    }
  ]
}